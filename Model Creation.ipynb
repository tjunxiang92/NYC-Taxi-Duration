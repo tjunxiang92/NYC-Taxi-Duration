{
 "cells": [
  {
   "cell_type": "code",
   "execution_count": 1,
   "metadata": {
    "collapsed": true
   },
   "outputs": [],
   "source": [
    "import pandas as pd\n",
    "import numpy as np\n",
    "from datetime import datetime as dt"
   ]
  },
  {
   "cell_type": "markdown",
   "metadata": {},
   "source": [
    "# Load Data"
   ]
  },
  {
   "cell_type": "code",
   "execution_count": 2,
   "metadata": {},
   "outputs": [],
   "source": [
    "train = pd.read_csv(\"../processed_train.csv\", index_col=[0])"
   ]
  },
  {
   "cell_type": "code",
   "execution_count": 3,
   "metadata": {},
   "outputs": [
    {
     "data": {
      "text/html": [
       "<div>\n",
       "<style>\n",
       "    .dataframe thead tr:only-child th {\n",
       "        text-align: right;\n",
       "    }\n",
       "\n",
       "    .dataframe thead th {\n",
       "        text-align: left;\n",
       "    }\n",
       "\n",
       "    .dataframe tbody tr th {\n",
       "        vertical-align: top;\n",
       "    }\n",
       "</style>\n",
       "<table border=\"1\" class=\"dataframe\">\n",
       "  <thead>\n",
       "    <tr style=\"text-align: right;\">\n",
       "      <th></th>\n",
       "      <th>id</th>\n",
       "      <th>vendor_id</th>\n",
       "      <th>pickup_datetime</th>\n",
       "      <th>dropoff_datetime</th>\n",
       "      <th>passenger_count</th>\n",
       "      <th>pickup_longitude</th>\n",
       "      <th>pickup_latitude</th>\n",
       "      <th>dropoff_longitude</th>\n",
       "      <th>dropoff_latitude</th>\n",
       "      <th>store_and_fwd_flag</th>\n",
       "      <th>...</th>\n",
       "      <th>pickup_timeofday</th>\n",
       "      <th>pickup_ispeak</th>\n",
       "      <th>pickup_day</th>\n",
       "      <th>dropoff_timeofday</th>\n",
       "      <th>dropoff_ispeak</th>\n",
       "      <th>dropoff_day</th>\n",
       "      <th>pickup_borough</th>\n",
       "      <th>dropoff_borough</th>\n",
       "      <th>distance</th>\n",
       "      <th>car_distance</th>\n",
       "    </tr>\n",
       "  </thead>\n",
       "  <tbody>\n",
       "    <tr>\n",
       "      <th>0</th>\n",
       "      <td>id3628018</td>\n",
       "      <td>2</td>\n",
       "      <td>2016-04-28 00:11:32</td>\n",
       "      <td>2016-04-28 00:18:39</td>\n",
       "      <td>1</td>\n",
       "      <td>-74.001747</td>\n",
       "      <td>40.726269</td>\n",
       "      <td>-73.987221</td>\n",
       "      <td>40.720470</td>\n",
       "      <td>N</td>\n",
       "      <td>...</td>\n",
       "      <td>midnight</td>\n",
       "      <td>False</td>\n",
       "      <td>3</td>\n",
       "      <td>midnight</td>\n",
       "      <td>False</td>\n",
       "      <td>3</td>\n",
       "      <td>manhattan</td>\n",
       "      <td>manhattan</td>\n",
       "      <td>1386</td>\n",
       "      <td>1822.9</td>\n",
       "    </tr>\n",
       "    <tr>\n",
       "      <th>1</th>\n",
       "      <td>id2990498</td>\n",
       "      <td>2</td>\n",
       "      <td>2016-01-15 14:23:04</td>\n",
       "      <td>2016-01-15 14:45:48</td>\n",
       "      <td>1</td>\n",
       "      <td>-73.974228</td>\n",
       "      <td>40.746971</td>\n",
       "      <td>-73.957207</td>\n",
       "      <td>40.785931</td>\n",
       "      <td>N</td>\n",
       "      <td>...</td>\n",
       "      <td>afternoon</td>\n",
       "      <td>False</td>\n",
       "      <td>4</td>\n",
       "      <td>afternoon</td>\n",
       "      <td>False</td>\n",
       "      <td>4</td>\n",
       "      <td>manhattan</td>\n",
       "      <td>manhattan</td>\n",
       "      <td>4559</td>\n",
       "      <td>6979.4</td>\n",
       "    </tr>\n",
       "    <tr>\n",
       "      <th>2</th>\n",
       "      <td>id0522450</td>\n",
       "      <td>1</td>\n",
       "      <td>2016-06-01 00:52:02</td>\n",
       "      <td>2016-06-01 01:20:55</td>\n",
       "      <td>1</td>\n",
       "      <td>-73.984909</td>\n",
       "      <td>40.745129</td>\n",
       "      <td>-73.885300</td>\n",
       "      <td>40.747421</td>\n",
       "      <td>N</td>\n",
       "      <td>...</td>\n",
       "      <td>midnight</td>\n",
       "      <td>False</td>\n",
       "      <td>2</td>\n",
       "      <td>midnight</td>\n",
       "      <td>False</td>\n",
       "      <td>2</td>\n",
       "      <td>manhattan</td>\n",
       "      <td>queens</td>\n",
       "      <td>8417</td>\n",
       "      <td>9450.2</td>\n",
       "    </tr>\n",
       "    <tr>\n",
       "      <th>3</th>\n",
       "      <td>id1985934</td>\n",
       "      <td>2</td>\n",
       "      <td>2016-04-29 09:20:47</td>\n",
       "      <td>2016-04-29 09:29:40</td>\n",
       "      <td>4</td>\n",
       "      <td>-73.994507</td>\n",
       "      <td>40.755333</td>\n",
       "      <td>-73.994942</td>\n",
       "      <td>40.736542</td>\n",
       "      <td>N</td>\n",
       "      <td>...</td>\n",
       "      <td>morning</td>\n",
       "      <td>True</td>\n",
       "      <td>4</td>\n",
       "      <td>morning</td>\n",
       "      <td>True</td>\n",
       "      <td>4</td>\n",
       "      <td>manhattan</td>\n",
       "      <td>manhattan</td>\n",
       "      <td>2087</td>\n",
       "      <td>2859.0</td>\n",
       "    </tr>\n",
       "    <tr>\n",
       "      <th>4</th>\n",
       "      <td>id3861553</td>\n",
       "      <td>2</td>\n",
       "      <td>2016-01-13 21:06:10</td>\n",
       "      <td>2016-01-13 21:18:43</td>\n",
       "      <td>1</td>\n",
       "      <td>-73.997017</td>\n",
       "      <td>40.717991</td>\n",
       "      <td>-73.977028</td>\n",
       "      <td>40.685154</td>\n",
       "      <td>N</td>\n",
       "      <td>...</td>\n",
       "      <td>night</td>\n",
       "      <td>False</td>\n",
       "      <td>2</td>\n",
       "      <td>night</td>\n",
       "      <td>False</td>\n",
       "      <td>2</td>\n",
       "      <td>manhattan</td>\n",
       "      <td>brooklyn</td>\n",
       "      <td>4019</td>\n",
       "      <td>4250.2</td>\n",
       "    </tr>\n",
       "  </tbody>\n",
       "</table>\n",
       "<p>5 rows × 21 columns</p>\n",
       "</div>"
      ],
      "text/plain": [
       "          id  vendor_id      pickup_datetime     dropoff_datetime  \\\n",
       "0  id3628018          2  2016-04-28 00:11:32  2016-04-28 00:18:39   \n",
       "1  id2990498          2  2016-01-15 14:23:04  2016-01-15 14:45:48   \n",
       "2  id0522450          1  2016-06-01 00:52:02  2016-06-01 01:20:55   \n",
       "3  id1985934          2  2016-04-29 09:20:47  2016-04-29 09:29:40   \n",
       "4  id3861553          2  2016-01-13 21:06:10  2016-01-13 21:18:43   \n",
       "\n",
       "   passenger_count  pickup_longitude  pickup_latitude  dropoff_longitude  \\\n",
       "0                1        -74.001747        40.726269         -73.987221   \n",
       "1                1        -73.974228        40.746971         -73.957207   \n",
       "2                1        -73.984909        40.745129         -73.885300   \n",
       "3                4        -73.994507        40.755333         -73.994942   \n",
       "4                1        -73.997017        40.717991         -73.977028   \n",
       "\n",
       "   dropoff_latitude store_and_fwd_flag      ...       pickup_timeofday  \\\n",
       "0         40.720470                  N      ...               midnight   \n",
       "1         40.785931                  N      ...              afternoon   \n",
       "2         40.747421                  N      ...               midnight   \n",
       "3         40.736542                  N      ...                morning   \n",
       "4         40.685154                  N      ...                  night   \n",
       "\n",
       "  pickup_ispeak  pickup_day  dropoff_timeofday dropoff_ispeak  dropoff_day  \\\n",
       "0         False           3           midnight          False            3   \n",
       "1         False           4          afternoon          False            4   \n",
       "2         False           2           midnight          False            2   \n",
       "3          True           4            morning           True            4   \n",
       "4         False           2              night          False            2   \n",
       "\n",
       "   pickup_borough dropoff_borough distance  car_distance  \n",
       "0       manhattan       manhattan     1386        1822.9  \n",
       "1       manhattan       manhattan     4559        6979.4  \n",
       "2       manhattan          queens     8417        9450.2  \n",
       "3       manhattan       manhattan     2087        2859.0  \n",
       "4       manhattan        brooklyn     4019        4250.2  \n",
       "\n",
       "[5 rows x 21 columns]"
      ]
     },
     "execution_count": 3,
     "metadata": {},
     "output_type": "execute_result"
    }
   ],
   "source": [
    "train.head()"
   ]
  },
  {
   "cell_type": "code",
   "execution_count": 4,
   "metadata": {},
   "outputs": [
    {
     "name": "stdout",
     "output_type": "stream",
     "text": [
      "<class 'pandas.core.frame.DataFrame'>\n",
      "Int64Index: 100000 entries, 0 to 99999\n",
      "Data columns (total 21 columns):\n",
      "id                    100000 non-null object\n",
      "vendor_id             100000 non-null int64\n",
      "pickup_datetime       100000 non-null object\n",
      "dropoff_datetime      100000 non-null object\n",
      "passenger_count       100000 non-null int64\n",
      "pickup_longitude      100000 non-null float64\n",
      "pickup_latitude       100000 non-null float64\n",
      "dropoff_longitude     100000 non-null float64\n",
      "dropoff_latitude      100000 non-null float64\n",
      "store_and_fwd_flag    100000 non-null object\n",
      "trip_duration         100000 non-null int64\n",
      "pickup_timeofday      100000 non-null object\n",
      "pickup_ispeak         100000 non-null bool\n",
      "pickup_day            100000 non-null int64\n",
      "dropoff_timeofday     100000 non-null object\n",
      "dropoff_ispeak        100000 non-null bool\n",
      "dropoff_day           100000 non-null int64\n",
      "pickup_borough        99932 non-null object\n",
      "dropoff_borough       99568 non-null object\n",
      "distance              100000 non-null int64\n",
      "car_distance          99997 non-null float64\n",
      "dtypes: bool(2), float64(5), int64(6), object(8)\n",
      "memory usage: 15.4+ MB\n"
     ]
    }
   ],
   "source": [
    "train.info()"
   ]
  },
  {
   "cell_type": "code",
   "execution_count": 5,
   "metadata": {},
   "outputs": [
    {
     "data": {
      "text/html": [
       "<div>\n",
       "<style>\n",
       "    .dataframe thead tr:only-child th {\n",
       "        text-align: right;\n",
       "    }\n",
       "\n",
       "    .dataframe thead th {\n",
       "        text-align: left;\n",
       "    }\n",
       "\n",
       "    .dataframe tbody tr th {\n",
       "        vertical-align: top;\n",
       "    }\n",
       "</style>\n",
       "<table border=\"1\" class=\"dataframe\">\n",
       "  <thead>\n",
       "    <tr style=\"text-align: right;\">\n",
       "      <th></th>\n",
       "      <th>vendor_id</th>\n",
       "      <th>passenger_count</th>\n",
       "      <th>pickup_longitude</th>\n",
       "      <th>pickup_latitude</th>\n",
       "      <th>dropoff_longitude</th>\n",
       "      <th>dropoff_latitude</th>\n",
       "      <th>trip_duration</th>\n",
       "      <th>pickup_day</th>\n",
       "      <th>dropoff_day</th>\n",
       "      <th>distance</th>\n",
       "      <th>car_distance</th>\n",
       "    </tr>\n",
       "  </thead>\n",
       "  <tbody>\n",
       "    <tr>\n",
       "      <th>count</th>\n",
       "      <td>100000.000000</td>\n",
       "      <td>100000.000000</td>\n",
       "      <td>100000.000000</td>\n",
       "      <td>100000.000000</td>\n",
       "      <td>100000.000000</td>\n",
       "      <td>100000.000000</td>\n",
       "      <td>100000.00000</td>\n",
       "      <td>100000.000000</td>\n",
       "      <td>100000.000000</td>\n",
       "      <td>100000.00000</td>\n",
       "      <td>99997.000000</td>\n",
       "    </tr>\n",
       "    <tr>\n",
       "      <th>mean</th>\n",
       "      <td>1.537360</td>\n",
       "      <td>1.662850</td>\n",
       "      <td>-73.973260</td>\n",
       "      <td>40.750690</td>\n",
       "      <td>-73.973512</td>\n",
       "      <td>40.751660</td>\n",
       "      <td>955.67803</td>\n",
       "      <td>3.050540</td>\n",
       "      <td>3.055240</td>\n",
       "      <td>3439.35562</td>\n",
       "      <td>4636.935789</td>\n",
       "    </tr>\n",
       "    <tr>\n",
       "      <th>std</th>\n",
       "      <td>0.498605</td>\n",
       "      <td>1.311334</td>\n",
       "      <td>0.055733</td>\n",
       "      <td>0.031000</td>\n",
       "      <td>0.053620</td>\n",
       "      <td>0.034498</td>\n",
       "      <td>3183.68737</td>\n",
       "      <td>1.955532</td>\n",
       "      <td>1.958062</td>\n",
       "      <td>3927.91425</td>\n",
       "      <td>5394.873337</td>\n",
       "    </tr>\n",
       "    <tr>\n",
       "      <th>min</th>\n",
       "      <td>1.000000</td>\n",
       "      <td>0.000000</td>\n",
       "      <td>-74.510605</td>\n",
       "      <td>37.851051</td>\n",
       "      <td>-74.663643</td>\n",
       "      <td>37.851051</td>\n",
       "      <td>1.00000</td>\n",
       "      <td>0.000000</td>\n",
       "      <td>0.000000</td>\n",
       "      <td>0.00000</td>\n",
       "      <td>0.000000</td>\n",
       "    </tr>\n",
       "    <tr>\n",
       "      <th>25%</th>\n",
       "      <td>1.000000</td>\n",
       "      <td>1.000000</td>\n",
       "      <td>-73.991920</td>\n",
       "      <td>40.736992</td>\n",
       "      <td>-73.991379</td>\n",
       "      <td>40.735995</td>\n",
       "      <td>401.00000</td>\n",
       "      <td>1.000000</td>\n",
       "      <td>1.000000</td>\n",
       "      <td>1238.00000</td>\n",
       "      <td>1667.400000</td>\n",
       "    </tr>\n",
       "    <tr>\n",
       "      <th>50%</th>\n",
       "      <td>2.000000</td>\n",
       "      <td>1.000000</td>\n",
       "      <td>-73.981812</td>\n",
       "      <td>40.753799</td>\n",
       "      <td>-73.979774</td>\n",
       "      <td>40.754330</td>\n",
       "      <td>662.00000</td>\n",
       "      <td>3.000000</td>\n",
       "      <td>3.000000</td>\n",
       "      <td>2101.00000</td>\n",
       "      <td>2758.300000</td>\n",
       "    </tr>\n",
       "    <tr>\n",
       "      <th>75%</th>\n",
       "      <td>2.000000</td>\n",
       "      <td>2.000000</td>\n",
       "      <td>-73.967628</td>\n",
       "      <td>40.768295</td>\n",
       "      <td>-73.963264</td>\n",
       "      <td>40.769704</td>\n",
       "      <td>1075.00000</td>\n",
       "      <td>5.000000</td>\n",
       "      <td>5.000000</td>\n",
       "      <td>3898.00000</td>\n",
       "      <td>5107.600000</td>\n",
       "    </tr>\n",
       "    <tr>\n",
       "      <th>max</th>\n",
       "      <td>2.000000</td>\n",
       "      <td>6.000000</td>\n",
       "      <td>-61.335529</td>\n",
       "      <td>43.486885</td>\n",
       "      <td>-61.335529</td>\n",
       "      <td>43.486885</td>\n",
       "      <td>86369.00000</td>\n",
       "      <td>6.000000</td>\n",
       "      <td>6.000000</td>\n",
       "      <td>67890.00000</td>\n",
       "      <td>85764.300000</td>\n",
       "    </tr>\n",
       "  </tbody>\n",
       "</table>\n",
       "</div>"
      ],
      "text/plain": [
       "           vendor_id  passenger_count  pickup_longitude  pickup_latitude  \\\n",
       "count  100000.000000    100000.000000     100000.000000    100000.000000   \n",
       "mean        1.537360         1.662850        -73.973260        40.750690   \n",
       "std         0.498605         1.311334          0.055733         0.031000   \n",
       "min         1.000000         0.000000        -74.510605        37.851051   \n",
       "25%         1.000000         1.000000        -73.991920        40.736992   \n",
       "50%         2.000000         1.000000        -73.981812        40.753799   \n",
       "75%         2.000000         2.000000        -73.967628        40.768295   \n",
       "max         2.000000         6.000000        -61.335529        43.486885   \n",
       "\n",
       "       dropoff_longitude  dropoff_latitude  trip_duration     pickup_day  \\\n",
       "count      100000.000000     100000.000000   100000.00000  100000.000000   \n",
       "mean          -73.973512         40.751660      955.67803       3.050540   \n",
       "std             0.053620          0.034498     3183.68737       1.955532   \n",
       "min           -74.663643         37.851051        1.00000       0.000000   \n",
       "25%           -73.991379         40.735995      401.00000       1.000000   \n",
       "50%           -73.979774         40.754330      662.00000       3.000000   \n",
       "75%           -73.963264         40.769704     1075.00000       5.000000   \n",
       "max           -61.335529         43.486885    86369.00000       6.000000   \n",
       "\n",
       "         dropoff_day      distance  car_distance  \n",
       "count  100000.000000  100000.00000  99997.000000  \n",
       "mean        3.055240    3439.35562   4636.935789  \n",
       "std         1.958062    3927.91425   5394.873337  \n",
       "min         0.000000       0.00000      0.000000  \n",
       "25%         1.000000    1238.00000   1667.400000  \n",
       "50%         3.000000    2101.00000   2758.300000  \n",
       "75%         5.000000    3898.00000   5107.600000  \n",
       "max         6.000000   67890.00000  85764.300000  "
      ]
     },
     "execution_count": 5,
     "metadata": {},
     "output_type": "execute_result"
    }
   ],
   "source": [
    "train.describe()"
   ]
  },
  {
   "cell_type": "code",
   "execution_count": 6,
   "metadata": {
    "collapsed": true
   },
   "outputs": [],
   "source": [
    "test = pd.read_csv('../processed_test.csv')"
   ]
  },
  {
   "cell_type": "code",
   "execution_count": 7,
   "metadata": {},
   "outputs": [
    {
     "data": {
      "text/html": [
       "<div>\n",
       "<style>\n",
       "    .dataframe thead tr:only-child th {\n",
       "        text-align: right;\n",
       "    }\n",
       "\n",
       "    .dataframe thead th {\n",
       "        text-align: left;\n",
       "    }\n",
       "\n",
       "    .dataframe tbody tr th {\n",
       "        vertical-align: top;\n",
       "    }\n",
       "</style>\n",
       "<table border=\"1\" class=\"dataframe\">\n",
       "  <thead>\n",
       "    <tr style=\"text-align: right;\">\n",
       "      <th></th>\n",
       "      <th>id</th>\n",
       "      <th>vendor_id</th>\n",
       "      <th>pickup_datetime</th>\n",
       "      <th>passenger_count</th>\n",
       "      <th>pickup_longitude</th>\n",
       "      <th>pickup_latitude</th>\n",
       "      <th>dropoff_longitude</th>\n",
       "      <th>dropoff_latitude</th>\n",
       "      <th>store_and_fwd_flag</th>\n",
       "      <th>pickup_timeofday</th>\n",
       "      <th>pickup_ispeak</th>\n",
       "      <th>pickup_day</th>\n",
       "      <th>pickup_borough</th>\n",
       "      <th>dropoff_borough</th>\n",
       "      <th>distance</th>\n",
       "      <th>car_distance</th>\n",
       "    </tr>\n",
       "  </thead>\n",
       "  <tbody>\n",
       "    <tr>\n",
       "      <th>0</th>\n",
       "      <td>id3004672</td>\n",
       "      <td>1</td>\n",
       "      <td>2016-06-30 23:59:58</td>\n",
       "      <td>1</td>\n",
       "      <td>-73.988129</td>\n",
       "      <td>40.732029</td>\n",
       "      <td>-73.990173</td>\n",
       "      <td>40.756680</td>\n",
       "      <td>N</td>\n",
       "      <td>night</td>\n",
       "      <td>False</td>\n",
       "      <td>3</td>\n",
       "      <td>manhattan</td>\n",
       "      <td>manhattan</td>\n",
       "      <td>2743</td>\n",
       "      <td>3795.9</td>\n",
       "    </tr>\n",
       "    <tr>\n",
       "      <th>1</th>\n",
       "      <td>id3505355</td>\n",
       "      <td>1</td>\n",
       "      <td>2016-06-30 23:59:53</td>\n",
       "      <td>1</td>\n",
       "      <td>-73.964203</td>\n",
       "      <td>40.679993</td>\n",
       "      <td>-73.959808</td>\n",
       "      <td>40.655403</td>\n",
       "      <td>N</td>\n",
       "      <td>night</td>\n",
       "      <td>False</td>\n",
       "      <td>3</td>\n",
       "      <td>brooklyn</td>\n",
       "      <td>brooklyn</td>\n",
       "      <td>2756</td>\n",
       "      <td>2901.6</td>\n",
       "    </tr>\n",
       "    <tr>\n",
       "      <th>2</th>\n",
       "      <td>id1217141</td>\n",
       "      <td>1</td>\n",
       "      <td>2016-06-30 23:59:47</td>\n",
       "      <td>1</td>\n",
       "      <td>-73.997437</td>\n",
       "      <td>40.737583</td>\n",
       "      <td>-73.986160</td>\n",
       "      <td>40.729523</td>\n",
       "      <td>N</td>\n",
       "      <td>night</td>\n",
       "      <td>False</td>\n",
       "      <td>3</td>\n",
       "      <td>manhattan</td>\n",
       "      <td>manhattan</td>\n",
       "      <td>1307</td>\n",
       "      <td>1501.9</td>\n",
       "    </tr>\n",
       "    <tr>\n",
       "      <th>3</th>\n",
       "      <td>id2150126</td>\n",
       "      <td>2</td>\n",
       "      <td>2016-06-30 23:59:41</td>\n",
       "      <td>1</td>\n",
       "      <td>-73.956070</td>\n",
       "      <td>40.771900</td>\n",
       "      <td>-73.986427</td>\n",
       "      <td>40.730469</td>\n",
       "      <td>N</td>\n",
       "      <td>night</td>\n",
       "      <td>False</td>\n",
       "      <td>3</td>\n",
       "      <td>manhattan</td>\n",
       "      <td>manhattan</td>\n",
       "      <td>5267</td>\n",
       "      <td>6661.1</td>\n",
       "    </tr>\n",
       "    <tr>\n",
       "      <th>4</th>\n",
       "      <td>id1598245</td>\n",
       "      <td>1</td>\n",
       "      <td>2016-06-30 23:59:33</td>\n",
       "      <td>1</td>\n",
       "      <td>-73.970215</td>\n",
       "      <td>40.761475</td>\n",
       "      <td>-73.961510</td>\n",
       "      <td>40.755890</td>\n",
       "      <td>N</td>\n",
       "      <td>night</td>\n",
       "      <td>False</td>\n",
       "      <td>3</td>\n",
       "      <td>manhattan</td>\n",
       "      <td>manhattan</td>\n",
       "      <td>962</td>\n",
       "      <td>1108.1</td>\n",
       "    </tr>\n",
       "  </tbody>\n",
       "</table>\n",
       "</div>"
      ],
      "text/plain": [
       "          id  vendor_id      pickup_datetime  passenger_count  \\\n",
       "0  id3004672          1  2016-06-30 23:59:58                1   \n",
       "1  id3505355          1  2016-06-30 23:59:53                1   \n",
       "2  id1217141          1  2016-06-30 23:59:47                1   \n",
       "3  id2150126          2  2016-06-30 23:59:41                1   \n",
       "4  id1598245          1  2016-06-30 23:59:33                1   \n",
       "\n",
       "   pickup_longitude  pickup_latitude  dropoff_longitude  dropoff_latitude  \\\n",
       "0        -73.988129        40.732029         -73.990173         40.756680   \n",
       "1        -73.964203        40.679993         -73.959808         40.655403   \n",
       "2        -73.997437        40.737583         -73.986160         40.729523   \n",
       "3        -73.956070        40.771900         -73.986427         40.730469   \n",
       "4        -73.970215        40.761475         -73.961510         40.755890   \n",
       "\n",
       "  store_and_fwd_flag pickup_timeofday  pickup_ispeak  pickup_day  \\\n",
       "0                  N            night          False           3   \n",
       "1                  N            night          False           3   \n",
       "2                  N            night          False           3   \n",
       "3                  N            night          False           3   \n",
       "4                  N            night          False           3   \n",
       "\n",
       "  pickup_borough dropoff_borough  distance  car_distance  \n",
       "0      manhattan       manhattan      2743        3795.9  \n",
       "1       brooklyn        brooklyn      2756        2901.6  \n",
       "2      manhattan       manhattan      1307        1501.9  \n",
       "3      manhattan       manhattan      5267        6661.1  \n",
       "4      manhattan       manhattan       962        1108.1  "
      ]
     },
     "execution_count": 7,
     "metadata": {},
     "output_type": "execute_result"
    }
   ],
   "source": [
    "test.head()"
   ]
  },
  {
   "cell_type": "code",
   "execution_count": 8,
   "metadata": {},
   "outputs": [
    {
     "name": "stdout",
     "output_type": "stream",
     "text": [
      "<class 'pandas.core.frame.DataFrame'>\n",
      "RangeIndex: 625134 entries, 0 to 625133\n",
      "Data columns (total 16 columns):\n",
      "id                    625134 non-null object\n",
      "vendor_id             625134 non-null int64\n",
      "pickup_datetime       625134 non-null object\n",
      "passenger_count       625134 non-null int64\n",
      "pickup_longitude      625134 non-null float64\n",
      "pickup_latitude       625134 non-null float64\n",
      "dropoff_longitude     625134 non-null float64\n",
      "dropoff_latitude      625134 non-null float64\n",
      "store_and_fwd_flag    625134 non-null object\n",
      "pickup_timeofday      625134 non-null object\n",
      "pickup_ispeak         625134 non-null bool\n",
      "pickup_day            625134 non-null int64\n",
      "pickup_borough        624685 non-null object\n",
      "dropoff_borough       622513 non-null object\n",
      "distance              625134 non-null int64\n",
      "car_distance          625128 non-null float64\n",
      "dtypes: bool(1), float64(5), int64(4), object(6)\n",
      "memory usage: 72.1+ MB\n"
     ]
    }
   ],
   "source": [
    "test.info()"
   ]
  },
  {
   "cell_type": "markdown",
   "metadata": {},
   "source": [
    "# Convert the time into Hours, Minutes and Seconds"
   ]
  },
  {
   "cell_type": "code",
   "execution_count": 9,
   "metadata": {
    "collapsed": true
   },
   "outputs": [],
   "source": [
    "train['pickup_datetime'] = train['pickup_datetime'].apply(pd.to_datetime)"
   ]
  },
  {
   "cell_type": "code",
   "execution_count": 10,
   "metadata": {
    "collapsed": true
   },
   "outputs": [],
   "source": [
    "train['pickup_hour'] = train['pickup_datetime'].dt.hour"
   ]
  },
  {
   "cell_type": "code",
   "execution_count": 11,
   "metadata": {
    "collapsed": true
   },
   "outputs": [],
   "source": [
    "train['pickup_mins'] = train['pickup_datetime'].dt.minute"
   ]
  },
  {
   "cell_type": "code",
   "execution_count": 12,
   "metadata": {
    "collapsed": true
   },
   "outputs": [],
   "source": [
    "train['pickup_secs'] = train['pickup_datetime'].dt.second"
   ]
  },
  {
   "cell_type": "code",
   "execution_count": 13,
   "metadata": {
    "collapsed": true
   },
   "outputs": [],
   "source": [
    "train['dropoff_datetime'] = train['dropoff_datetime'].apply(pd.to_datetime)"
   ]
  },
  {
   "cell_type": "code",
   "execution_count": 14,
   "metadata": {
    "collapsed": true
   },
   "outputs": [],
   "source": [
    "train['dropoff_hour'] = train['dropoff_datetime'].dt.hour"
   ]
  },
  {
   "cell_type": "code",
   "execution_count": 15,
   "metadata": {
    "collapsed": true
   },
   "outputs": [],
   "source": [
    "train['dropoff_mins'] = train['dropoff_datetime'].dt.minute"
   ]
  },
  {
   "cell_type": "code",
   "execution_count": 16,
   "metadata": {
    "collapsed": true
   },
   "outputs": [],
   "source": [
    "train['dropoff_secs'] = train['dropoff_datetime'].dt.second"
   ]
  },
  {
   "cell_type": "code",
   "execution_count": 17,
   "metadata": {
    "collapsed": true
   },
   "outputs": [],
   "source": [
    "test['pickup_datetime'] = test['pickup_datetime'].apply(pd.to_datetime)"
   ]
  },
  {
   "cell_type": "code",
   "execution_count": 18,
   "metadata": {
    "collapsed": true
   },
   "outputs": [],
   "source": [
    "test['pickup_hour'] = test['pickup_datetime'].dt.hour"
   ]
  },
  {
   "cell_type": "code",
   "execution_count": 19,
   "metadata": {
    "collapsed": true
   },
   "outputs": [],
   "source": [
    "test['pickup_mins'] = test['pickup_datetime'].dt.minute"
   ]
  },
  {
   "cell_type": "code",
   "execution_count": 20,
   "metadata": {
    "collapsed": true
   },
   "outputs": [],
   "source": [
    "test['pickup_secs'] = test['pickup_datetime'].dt.second"
   ]
  },
  {
   "cell_type": "code",
   "execution_count": 21,
   "metadata": {},
   "outputs": [
    {
     "data": {
      "text/html": [
       "<div>\n",
       "<style>\n",
       "    .dataframe thead tr:only-child th {\n",
       "        text-align: right;\n",
       "    }\n",
       "\n",
       "    .dataframe thead th {\n",
       "        text-align: left;\n",
       "    }\n",
       "\n",
       "    .dataframe tbody tr th {\n",
       "        vertical-align: top;\n",
       "    }\n",
       "</style>\n",
       "<table border=\"1\" class=\"dataframe\">\n",
       "  <thead>\n",
       "    <tr style=\"text-align: right;\">\n",
       "      <th></th>\n",
       "      <th>id</th>\n",
       "      <th>vendor_id</th>\n",
       "      <th>pickup_datetime</th>\n",
       "      <th>dropoff_datetime</th>\n",
       "      <th>passenger_count</th>\n",
       "      <th>pickup_longitude</th>\n",
       "      <th>pickup_latitude</th>\n",
       "      <th>dropoff_longitude</th>\n",
       "      <th>dropoff_latitude</th>\n",
       "      <th>store_and_fwd_flag</th>\n",
       "      <th>...</th>\n",
       "      <th>pickup_borough</th>\n",
       "      <th>dropoff_borough</th>\n",
       "      <th>distance</th>\n",
       "      <th>car_distance</th>\n",
       "      <th>pickup_hour</th>\n",
       "      <th>pickup_mins</th>\n",
       "      <th>pickup_secs</th>\n",
       "      <th>dropoff_hour</th>\n",
       "      <th>dropoff_mins</th>\n",
       "      <th>dropoff_secs</th>\n",
       "    </tr>\n",
       "  </thead>\n",
       "  <tbody>\n",
       "    <tr>\n",
       "      <th>0</th>\n",
       "      <td>id3628018</td>\n",
       "      <td>2</td>\n",
       "      <td>2016-04-28 00:11:32</td>\n",
       "      <td>2016-04-28 00:18:39</td>\n",
       "      <td>1</td>\n",
       "      <td>-74.001747</td>\n",
       "      <td>40.726269</td>\n",
       "      <td>-73.987221</td>\n",
       "      <td>40.720470</td>\n",
       "      <td>N</td>\n",
       "      <td>...</td>\n",
       "      <td>manhattan</td>\n",
       "      <td>manhattan</td>\n",
       "      <td>1386</td>\n",
       "      <td>1822.9</td>\n",
       "      <td>0</td>\n",
       "      <td>11</td>\n",
       "      <td>32</td>\n",
       "      <td>0</td>\n",
       "      <td>18</td>\n",
       "      <td>39</td>\n",
       "    </tr>\n",
       "    <tr>\n",
       "      <th>1</th>\n",
       "      <td>id2990498</td>\n",
       "      <td>2</td>\n",
       "      <td>2016-01-15 14:23:04</td>\n",
       "      <td>2016-01-15 14:45:48</td>\n",
       "      <td>1</td>\n",
       "      <td>-73.974228</td>\n",
       "      <td>40.746971</td>\n",
       "      <td>-73.957207</td>\n",
       "      <td>40.785931</td>\n",
       "      <td>N</td>\n",
       "      <td>...</td>\n",
       "      <td>manhattan</td>\n",
       "      <td>manhattan</td>\n",
       "      <td>4559</td>\n",
       "      <td>6979.4</td>\n",
       "      <td>14</td>\n",
       "      <td>23</td>\n",
       "      <td>4</td>\n",
       "      <td>14</td>\n",
       "      <td>45</td>\n",
       "      <td>48</td>\n",
       "    </tr>\n",
       "    <tr>\n",
       "      <th>2</th>\n",
       "      <td>id0522450</td>\n",
       "      <td>1</td>\n",
       "      <td>2016-06-01 00:52:02</td>\n",
       "      <td>2016-06-01 01:20:55</td>\n",
       "      <td>1</td>\n",
       "      <td>-73.984909</td>\n",
       "      <td>40.745129</td>\n",
       "      <td>-73.885300</td>\n",
       "      <td>40.747421</td>\n",
       "      <td>N</td>\n",
       "      <td>...</td>\n",
       "      <td>manhattan</td>\n",
       "      <td>queens</td>\n",
       "      <td>8417</td>\n",
       "      <td>9450.2</td>\n",
       "      <td>0</td>\n",
       "      <td>52</td>\n",
       "      <td>2</td>\n",
       "      <td>1</td>\n",
       "      <td>20</td>\n",
       "      <td>55</td>\n",
       "    </tr>\n",
       "    <tr>\n",
       "      <th>3</th>\n",
       "      <td>id1985934</td>\n",
       "      <td>2</td>\n",
       "      <td>2016-04-29 09:20:47</td>\n",
       "      <td>2016-04-29 09:29:40</td>\n",
       "      <td>4</td>\n",
       "      <td>-73.994507</td>\n",
       "      <td>40.755333</td>\n",
       "      <td>-73.994942</td>\n",
       "      <td>40.736542</td>\n",
       "      <td>N</td>\n",
       "      <td>...</td>\n",
       "      <td>manhattan</td>\n",
       "      <td>manhattan</td>\n",
       "      <td>2087</td>\n",
       "      <td>2859.0</td>\n",
       "      <td>9</td>\n",
       "      <td>20</td>\n",
       "      <td>47</td>\n",
       "      <td>9</td>\n",
       "      <td>29</td>\n",
       "      <td>40</td>\n",
       "    </tr>\n",
       "    <tr>\n",
       "      <th>4</th>\n",
       "      <td>id3861553</td>\n",
       "      <td>2</td>\n",
       "      <td>2016-01-13 21:06:10</td>\n",
       "      <td>2016-01-13 21:18:43</td>\n",
       "      <td>1</td>\n",
       "      <td>-73.997017</td>\n",
       "      <td>40.717991</td>\n",
       "      <td>-73.977028</td>\n",
       "      <td>40.685154</td>\n",
       "      <td>N</td>\n",
       "      <td>...</td>\n",
       "      <td>manhattan</td>\n",
       "      <td>brooklyn</td>\n",
       "      <td>4019</td>\n",
       "      <td>4250.2</td>\n",
       "      <td>21</td>\n",
       "      <td>6</td>\n",
       "      <td>10</td>\n",
       "      <td>21</td>\n",
       "      <td>18</td>\n",
       "      <td>43</td>\n",
       "    </tr>\n",
       "  </tbody>\n",
       "</table>\n",
       "<p>5 rows × 27 columns</p>\n",
       "</div>"
      ],
      "text/plain": [
       "          id  vendor_id     pickup_datetime    dropoff_datetime  \\\n",
       "0  id3628018          2 2016-04-28 00:11:32 2016-04-28 00:18:39   \n",
       "1  id2990498          2 2016-01-15 14:23:04 2016-01-15 14:45:48   \n",
       "2  id0522450          1 2016-06-01 00:52:02 2016-06-01 01:20:55   \n",
       "3  id1985934          2 2016-04-29 09:20:47 2016-04-29 09:29:40   \n",
       "4  id3861553          2 2016-01-13 21:06:10 2016-01-13 21:18:43   \n",
       "\n",
       "   passenger_count  pickup_longitude  pickup_latitude  dropoff_longitude  \\\n",
       "0                1        -74.001747        40.726269         -73.987221   \n",
       "1                1        -73.974228        40.746971         -73.957207   \n",
       "2                1        -73.984909        40.745129         -73.885300   \n",
       "3                4        -73.994507        40.755333         -73.994942   \n",
       "4                1        -73.997017        40.717991         -73.977028   \n",
       "\n",
       "   dropoff_latitude store_and_fwd_flag      ...       pickup_borough  \\\n",
       "0         40.720470                  N      ...            manhattan   \n",
       "1         40.785931                  N      ...            manhattan   \n",
       "2         40.747421                  N      ...            manhattan   \n",
       "3         40.736542                  N      ...            manhattan   \n",
       "4         40.685154                  N      ...            manhattan   \n",
       "\n",
       "  dropoff_borough  distance  car_distance pickup_hour  pickup_mins  \\\n",
       "0       manhattan      1386        1822.9           0           11   \n",
       "1       manhattan      4559        6979.4          14           23   \n",
       "2          queens      8417        9450.2           0           52   \n",
       "3       manhattan      2087        2859.0           9           20   \n",
       "4        brooklyn      4019        4250.2          21            6   \n",
       "\n",
       "   pickup_secs dropoff_hour dropoff_mins  dropoff_secs  \n",
       "0           32            0           18            39  \n",
       "1            4           14           45            48  \n",
       "2            2            1           20            55  \n",
       "3           47            9           29            40  \n",
       "4           10           21           18            43  \n",
       "\n",
       "[5 rows x 27 columns]"
      ]
     },
     "execution_count": 21,
     "metadata": {},
     "output_type": "execute_result"
    }
   ],
   "source": [
    "train.head()"
   ]
  },
  {
   "cell_type": "markdown",
   "metadata": {},
   "source": [
    "# Process the Data"
   ]
  },
  {
   "cell_type": "code",
   "execution_count": 22,
   "metadata": {
    "collapsed": true
   },
   "outputs": [],
   "source": [
    "def pickup_timeofday_numeric(x):\n",
    "    if x == 'midnight':\n",
    "        return 0\n",
    "    elif x == 'morning':\n",
    "        return 1\n",
    "    elif x == 'afternoon':\n",
    "        return 2\n",
    "    elif x == 'night':\n",
    "        return 3"
   ]
  },
  {
   "cell_type": "code",
   "execution_count": 23,
   "metadata": {
    "collapsed": true
   },
   "outputs": [],
   "source": [
    "def ispeak_numeric(x):\n",
    "    if x == False:\n",
    "        return 0\n",
    "    else:\n",
    "        return 1"
   ]
  },
  {
   "cell_type": "code",
   "execution_count": 24,
   "metadata": {
    "collapsed": true
   },
   "outputs": [],
   "source": [
    "train['pickup_ispeak'] = train['pickup_ispeak'].apply(lambda x: ispeak_numeric(x))"
   ]
  },
  {
   "cell_type": "code",
   "execution_count": 25,
   "metadata": {
    "collapsed": true
   },
   "outputs": [],
   "source": [
    "train['dropoff_ispeak'] = train['dropoff_ispeak'].apply(lambda x: ispeak_numeric(x))"
   ]
  },
  {
   "cell_type": "code",
   "execution_count": 26,
   "metadata": {
    "collapsed": true
   },
   "outputs": [],
   "source": [
    "test['pickup_ispeak'] = test['pickup_ispeak'].apply(lambda x: ispeak_numeric(x))"
   ]
  },
  {
   "cell_type": "code",
   "execution_count": 27,
   "metadata": {
    "collapsed": true
   },
   "outputs": [],
   "source": [
    "train['pickup_timeofday'] = train['pickup_timeofday'].apply(lambda x: pickup_timeofday_numeric(x))\n",
    "train['dropoff_timeofday'] = train['dropoff_timeofday'].apply(lambda x: pickup_timeofday_numeric(x))\n",
    "\n",
    "test['pickup_timeofday'] = test['pickup_timeofday'].apply(lambda x: pickup_timeofday_numeric(x))"
   ]
  },
  {
   "cell_type": "markdown",
   "metadata": {},
   "source": [
    "### For the borough, since there are nan"
   ]
  },
  {
   "cell_type": "code",
   "execution_count": 28,
   "metadata": {
    "collapsed": true
   },
   "outputs": [],
   "source": [
    "def borough_mapping(x): \n",
    "    if x == 'manhattan':\n",
    "        return 0\n",
    "    elif x == 'brooklyn':\n",
    "        return 1\n",
    "    elif x == 'queens':\n",
    "        return 2\n",
    "    else:\n",
    "        return 3"
   ]
  },
  {
   "cell_type": "code",
   "execution_count": 29,
   "metadata": {
    "collapsed": true
   },
   "outputs": [],
   "source": [
    "train['pickup_borough'] = train['pickup_borough'].apply(lambda x: borough_mapping(x))\n",
    "train['dropoff_borough'] = train['dropoff_borough'].apply(lambda x: borough_mapping(x))\n",
    "\n",
    "test['pickup_borough'] = test['pickup_borough'].apply(lambda x: borough_mapping(x))\n",
    "test['dropoff_borough'] = test['dropoff_borough'].apply(lambda x: borough_mapping(x))"
   ]
  },
  {
   "cell_type": "code",
   "execution_count": 30,
   "metadata": {
    "collapsed": true
   },
   "outputs": [],
   "source": [
    "def flag_numeric(x):\n",
    "    if x == 'N':\n",
    "        return 0\n",
    "    else:\n",
    "        return 1"
   ]
  },
  {
   "cell_type": "code",
   "execution_count": 31,
   "metadata": {
    "collapsed": true
   },
   "outputs": [],
   "source": [
    "train['store_and_fwd_flag'] = train['store_and_fwd_flag'].apply(lambda x: flag_numeric(x))"
   ]
  },
  {
   "cell_type": "code",
   "execution_count": 32,
   "metadata": {
    "collapsed": true
   },
   "outputs": [],
   "source": [
    "test['store_and_fwd_flag'] = test['store_and_fwd_flag'].apply(lambda x: flag_numeric(x))"
   ]
  },
  {
   "cell_type": "code",
   "execution_count": 33,
   "metadata": {},
   "outputs": [
    {
     "name": "stdout",
     "output_type": "stream",
     "text": [
      "<class 'pandas.core.frame.DataFrame'>\n",
      "Int64Index: 100000 entries, 0 to 99999\n",
      "Data columns (total 27 columns):\n",
      "id                    100000 non-null object\n",
      "vendor_id             100000 non-null int64\n",
      "pickup_datetime       100000 non-null datetime64[ns]\n",
      "dropoff_datetime      100000 non-null datetime64[ns]\n",
      "passenger_count       100000 non-null int64\n",
      "pickup_longitude      100000 non-null float64\n",
      "pickup_latitude       100000 non-null float64\n",
      "dropoff_longitude     100000 non-null float64\n",
      "dropoff_latitude      100000 non-null float64\n",
      "store_and_fwd_flag    100000 non-null int64\n",
      "trip_duration         100000 non-null int64\n",
      "pickup_timeofday      100000 non-null int64\n",
      "pickup_ispeak         100000 non-null int64\n",
      "pickup_day            100000 non-null int64\n",
      "dropoff_timeofday     100000 non-null int64\n",
      "dropoff_ispeak        100000 non-null int64\n",
      "dropoff_day           100000 non-null int64\n",
      "pickup_borough        100000 non-null int64\n",
      "dropoff_borough       100000 non-null int64\n",
      "distance              100000 non-null int64\n",
      "car_distance          99997 non-null float64\n",
      "pickup_hour           100000 non-null int64\n",
      "pickup_mins           100000 non-null int64\n",
      "pickup_secs           100000 non-null int64\n",
      "dropoff_hour          100000 non-null int64\n",
      "dropoff_mins          100000 non-null int64\n",
      "dropoff_secs          100000 non-null int64\n",
      "dtypes: datetime64[ns](2), float64(5), int64(19), object(1)\n",
      "memory usage: 21.4+ MB\n"
     ]
    }
   ],
   "source": [
    "train.info()"
   ]
  },
  {
   "cell_type": "code",
   "execution_count": 34,
   "metadata": {},
   "outputs": [
    {
     "name": "stdout",
     "output_type": "stream",
     "text": [
      "<class 'pandas.core.frame.DataFrame'>\n",
      "RangeIndex: 625134 entries, 0 to 625133\n",
      "Data columns (total 19 columns):\n",
      "id                    625134 non-null object\n",
      "vendor_id             625134 non-null int64\n",
      "pickup_datetime       625134 non-null datetime64[ns]\n",
      "passenger_count       625134 non-null int64\n",
      "pickup_longitude      625134 non-null float64\n",
      "pickup_latitude       625134 non-null float64\n",
      "dropoff_longitude     625134 non-null float64\n",
      "dropoff_latitude      625134 non-null float64\n",
      "store_and_fwd_flag    625134 non-null int64\n",
      "pickup_timeofday      625134 non-null int64\n",
      "pickup_ispeak         625134 non-null int64\n",
      "pickup_day            625134 non-null int64\n",
      "pickup_borough        625134 non-null int64\n",
      "dropoff_borough       625134 non-null int64\n",
      "distance              625134 non-null int64\n",
      "car_distance          625128 non-null float64\n",
      "pickup_hour           625134 non-null int64\n",
      "pickup_mins           625134 non-null int64\n",
      "pickup_secs           625134 non-null int64\n",
      "dtypes: datetime64[ns](1), float64(5), int64(12), object(1)\n",
      "memory usage: 90.6+ MB\n"
     ]
    }
   ],
   "source": [
    "test.info()"
   ]
  },
  {
   "cell_type": "code",
   "execution_count": 35,
   "metadata": {
    "collapsed": true
   },
   "outputs": [],
   "source": [
    "train = train.fillna(-1)"
   ]
  },
  {
   "cell_type": "code",
   "execution_count": 36,
   "metadata": {
    "collapsed": true
   },
   "outputs": [],
   "source": [
    "test = test.fillna(-1)"
   ]
  },
  {
   "cell_type": "markdown",
   "metadata": {},
   "source": [
    "## Split the Data"
   ]
  },
  {
   "cell_type": "code",
   "execution_count": 37,
   "metadata": {
    "collapsed": true
   },
   "outputs": [],
   "source": [
    "from sklearn.model_selection import train_test_split\n",
    "\n",
    "X = train.drop(['id', 'vendor_id', 'pickup_datetime', 'dropoff_datetime', 'dropoff_hour', 'dropoff_mins', 'dropoff_secs', 'dropoff_timeofday', 'dropoff_ispeak', 'dropoff_day', 'trip_duration'], axis = 1)\n",
    "y = train['trip_duration']\n",
    "\n",
    "X_train, X_test, y_train, y_test = train_test_split(X, y, test_size=0.3, random_state=101)"
   ]
  },
  {
   "cell_type": "markdown",
   "metadata": {},
   "source": [
    "# With Feature Engineering"
   ]
  },
  {
   "cell_type": "markdown",
   "metadata": {},
   "source": [
    "# Random Forest Regressor"
   ]
  },
  {
   "cell_type": "code",
   "execution_count": 50,
   "metadata": {
    "collapsed": true
   },
   "outputs": [],
   "source": [
    "from sklearn.ensemble import RandomForestRegressor"
   ]
  },
  {
   "cell_type": "code",
   "execution_count": 51,
   "metadata": {},
   "outputs": [
    {
     "data": {
      "text/plain": [
       "RandomForestRegressor(bootstrap=True, criterion='mse', max_depth=None,\n",
       "           max_features='auto', max_leaf_nodes=None,\n",
       "           min_impurity_decrease=0.0, min_impurity_split=None,\n",
       "           min_samples_leaf=1, min_samples_split=2,\n",
       "           min_weight_fraction_leaf=0.0, n_estimators=10, n_jobs=1,\n",
       "           oob_score=False, random_state=101, verbose=0, warm_start=False)"
      ]
     },
     "execution_count": 51,
     "metadata": {},
     "output_type": "execute_result"
    }
   ],
   "source": [
    "forest_reg = RandomForestRegressor(random_state=101)\n",
    "forest_reg.fit(X_train, y_train)"
   ]
  },
  {
   "cell_type": "code",
   "execution_count": 52,
   "metadata": {},
   "outputs": [
    {
     "name": "stdout",
     "output_type": "stream",
     "text": [
      "Random Forest R squared\": -0.1293\n"
     ]
    }
   ],
   "source": [
    "print('Random Forest R squared\": %.4f' % forest_reg.score(X_test, y_test))"
   ]
  },
  {
   "cell_type": "code",
   "execution_count": 53,
   "metadata": {},
   "outputs": [
    {
     "name": "stdout",
     "output_type": "stream",
     "text": [
      "Random Forest RMSE: 3668.7611\n"
     ]
    }
   ],
   "source": [
    "y_pred = forest_reg.predict(X_test)\n",
    "forest_mse = mean_squared_error(y_pred, y_test)\n",
    "forest_rmse = np.sqrt(forest_mse)\n",
    "print('Random Forest RMSE: %.4f' % forest_rmse)"
   ]
  },
  {
   "cell_type": "code",
   "execution_count": 54,
   "metadata": {},
   "outputs": [
    {
     "name": "stdout",
     "output_type": "stream",
     "text": [
      "Random Forest MAE: 490.5427\n"
     ]
    }
   ],
   "source": [
    "from sklearn.metrics import mean_absolute_error\n",
    "forest_mae = mean_absolute_error(y_pred, y_test)\n",
    "print('Random Forest MAE: %.4f' % forest_mae)"
   ]
  },
  {
   "cell_type": "markdown",
   "metadata": {},
   "source": [
    "# Kaggle Submission"
   ]
  },
  {
   "cell_type": "code",
   "execution_count": 55,
   "metadata": {},
   "outputs": [
    {
     "data": {
      "text/plain": [
       "RandomForestRegressor(bootstrap=True, criterion='mse', max_depth=None,\n",
       "           max_features='auto', max_leaf_nodes=None,\n",
       "           min_impurity_decrease=0.0, min_impurity_split=None,\n",
       "           min_samples_leaf=1, min_samples_split=2,\n",
       "           min_weight_fraction_leaf=0.0, n_estimators=10, n_jobs=1,\n",
       "           oob_score=False, random_state=101, verbose=0, warm_start=False)"
      ]
     },
     "execution_count": 55,
     "metadata": {},
     "output_type": "execute_result"
    }
   ],
   "source": [
    "kaggle_forest_reg = RandomForestRegressor(random_state=101)\n",
    "kaggle_forest_reg.fit(X, y)"
   ]
  },
  {
   "cell_type": "code",
   "execution_count": 56,
   "metadata": {
    "collapsed": true
   },
   "outputs": [],
   "source": [
    "y_pred = kaggle_forest_reg.predict(test_X)"
   ]
  },
  {
   "cell_type": "code",
   "execution_count": 57,
   "metadata": {
    "collapsed": true
   },
   "outputs": [],
   "source": [
    "submission_forest_csv = pd.DataFrame({'id': test['id'], 'trip_duration': y_pred})\n",
    "submission_forest_csv.to_csv('nyc_kaggle_random_forest.csv')"
   ]
  },
  {
   "cell_type": "markdown",
   "metadata": {},
   "source": [
    "# Linear Regressor"
   ]
  },
  {
   "cell_type": "code",
   "execution_count": 58,
   "metadata": {
    "collapsed": true
   },
   "outputs": [],
   "source": [
    "from sklearn.linear_model import LinearRegression"
   ]
  },
  {
   "cell_type": "code",
   "execution_count": 59,
   "metadata": {
    "collapsed": true
   },
   "outputs": [],
   "source": [
    "lm = LinearRegression()"
   ]
  },
  {
   "cell_type": "code",
   "execution_count": 60,
   "metadata": {},
   "outputs": [
    {
     "data": {
      "text/plain": [
       "LinearRegression(copy_X=True, fit_intercept=True, n_jobs=1, normalize=False)"
      ]
     },
     "execution_count": 60,
     "metadata": {},
     "output_type": "execute_result"
    }
   ],
   "source": [
    "lm.fit(X_train, y_train)"
   ]
  },
  {
   "cell_type": "code",
   "execution_count": 61,
   "metadata": {
    "collapsed": true
   },
   "outputs": [],
   "source": [
    "predictions = lm.predict(X_test)"
   ]
  },
  {
   "cell_type": "code",
   "execution_count": 62,
   "metadata": {},
   "outputs": [
    {
     "name": "stdout",
     "output_type": "stream",
     "text": [
      "Linear Regression R squared\": 0.0245\n"
     ]
    }
   ],
   "source": [
    "print('Linear Regression R squared\": %.4f' % lm.score(X_test, y_test))"
   ]
  },
  {
   "cell_type": "code",
   "execution_count": 63,
   "metadata": {},
   "outputs": [
    {
     "name": "stdout",
     "output_type": "stream",
     "text": [
      "Linear Regression RMSE: 3409.7435\n"
     ]
    }
   ],
   "source": [
    "from sklearn.metrics import mean_squared_error\n",
    "lin_mse = mean_squared_error(predictions, y_test)\n",
    "lin_rmse = np.sqrt(lin_mse)\n",
    "print('Linear Regression RMSE: %.4f' % lin_rmse)"
   ]
  },
  {
   "cell_type": "code",
   "execution_count": 64,
   "metadata": {},
   "outputs": [
    {
     "name": "stdout",
     "output_type": "stream",
     "text": [
      "Linear Regression MAE: 453.9264\n"
     ]
    }
   ],
   "source": [
    "from sklearn.metrics import mean_absolute_error\n",
    "lin_mae = mean_absolute_error(predictions, y_test)\n",
    "print('Linear Regression MAE: %.4f' % lin_mae)"
   ]
  },
  {
   "cell_type": "markdown",
   "metadata": {},
   "source": [
    "# Kaggle Submission"
   ]
  },
  {
   "cell_type": "code",
   "execution_count": 65,
   "metadata": {},
   "outputs": [
    {
     "data": {
      "text/plain": [
       "LinearRegression(copy_X=True, fit_intercept=True, n_jobs=1, normalize=False)"
      ]
     },
     "execution_count": 65,
     "metadata": {},
     "output_type": "execute_result"
    }
   ],
   "source": [
    "lm.fit(X, y)"
   ]
  },
  {
   "cell_type": "code",
   "execution_count": 66,
   "metadata": {
    "collapsed": true
   },
   "outputs": [],
   "source": [
    "y_pred = lm.predict(test_X)"
   ]
  },
  {
   "cell_type": "code",
   "execution_count": 67,
   "metadata": {
    "collapsed": true
   },
   "outputs": [],
   "source": [
    "submission_lm_csv = pd.DataFrame({'id': test['id'], 'trip_duration': y_pred})\n",
    "submission_lm_csv.to_csv('nyc_kaggle_linear_regression.csv')"
   ]
  },
  {
   "cell_type": "markdown",
   "metadata": {},
   "source": [
    "# XGBoost"
   ]
  },
  {
   "cell_type": "code",
   "execution_count": 68,
   "metadata": {
    "collapsed": true
   },
   "outputs": [],
   "source": [
    "from xgboost import XGBRegressor\n",
    "from xgboost import plot_importance\n",
    "import matplotlib.pyplot as plt "
   ]
  },
  {
   "cell_type": "code",
   "execution_count": 86,
   "metadata": {},
   "outputs": [
    {
     "data": {
      "text/plain": [
       "XGBRegressor(base_score=0.5, booster='gbtree', colsample_bylevel=1,\n",
       "       colsample_bytree=1, gamma=0, learning_rate=0.1, max_delta_step=0,\n",
       "       max_depth=3, min_child_weight=1, missing=None, n_estimators=100,\n",
       "       n_jobs=1, nthread=None, objective='reg:linear', random_state=0,\n",
       "       reg_alpha=0, reg_lambda=1, scale_pos_weight=1, seed=None,\n",
       "       silent=True, subsample=1)"
      ]
     },
     "execution_count": 86,
     "metadata": {},
     "output_type": "execute_result"
    }
   ],
   "source": [
    "model = XGBRegressor()\n",
    "model.fit(X, y)"
   ]
  },
  {
   "cell_type": "code",
   "execution_count": 87,
   "metadata": {
    "collapsed": true
   },
   "outputs": [],
   "source": [
    "y_pred = model.predict(test_X)"
   ]
  },
  {
   "cell_type": "code",
   "execution_count": null,
   "metadata": {},
   "outputs": [],
   "source": [
    "plot_importance(model)\n",
    "plt.show()"
   ]
  },
  {
   "cell_type": "code",
   "execution_count": 88,
   "metadata": {},
   "outputs": [],
   "source": [
    "submission_xgboost_csv = pd.DataFrame({'id': test['id'], 'trip_duration': y_pred})\n",
    "submission_xgboost_csv.to_csv('nyc_kaggle_xgboost.csv')"
   ]
  },
  {
   "cell_type": "markdown",
   "metadata": {},
   "source": [
    "# Without Feature Engineering Data"
   ]
  },
  {
   "cell_type": "code",
   "execution_count": 97,
   "metadata": {
    "collapsed": true
   },
   "outputs": [],
   "source": [
    "train_data = pd.read_csv('../train.csv')\n",
    "test_data = pd.read_csv('../test.csv')"
   ]
  },
  {
   "cell_type": "code",
   "execution_count": 101,
   "metadata": {},
   "outputs": [
    {
     "name": "stdout",
     "output_type": "stream",
     "text": [
      "<class 'pandas.core.frame.DataFrame'>\n",
      "RangeIndex: 1458644 entries, 0 to 1458643\n",
      "Data columns (total 11 columns):\n",
      "id                    1458644 non-null object\n",
      "vendor_id             1458644 non-null int64\n",
      "pickup_datetime       1458644 non-null object\n",
      "dropoff_datetime      1458644 non-null object\n",
      "passenger_count       1458644 non-null int64\n",
      "pickup_longitude      1458644 non-null float64\n",
      "pickup_latitude       1458644 non-null float64\n",
      "dropoff_longitude     1458644 non-null float64\n",
      "dropoff_latitude      1458644 non-null float64\n",
      "store_and_fwd_flag    1458644 non-null object\n",
      "trip_duration         1458644 non-null int64\n",
      "dtypes: float64(4), int64(3), object(4)\n",
      "memory usage: 122.4+ MB\n"
     ]
    }
   ],
   "source": [
    "train_data.info()"
   ]
  },
  {
   "cell_type": "code",
   "execution_count": 103,
   "metadata": {},
   "outputs": [
    {
     "name": "stdout",
     "output_type": "stream",
     "text": [
      "<class 'pandas.core.frame.DataFrame'>\n",
      "RangeIndex: 625134 entries, 0 to 625133\n",
      "Data columns (total 9 columns):\n",
      "id                    625134 non-null object\n",
      "vendor_id             625134 non-null int64\n",
      "pickup_datetime       625134 non-null object\n",
      "passenger_count       625134 non-null int64\n",
      "pickup_longitude      625134 non-null float64\n",
      "pickup_latitude       625134 non-null float64\n",
      "dropoff_longitude     625134 non-null float64\n",
      "dropoff_latitude      625134 non-null float64\n",
      "store_and_fwd_flag    625134 non-null object\n",
      "dtypes: float64(4), int64(2), object(3)\n",
      "memory usage: 42.9+ MB\n"
     ]
    }
   ],
   "source": [
    "test_data.info()"
   ]
  },
  {
   "cell_type": "code",
   "execution_count": 111,
   "metadata": {
    "collapsed": true
   },
   "outputs": [],
   "source": [
    "train_data['store_and_fwd_flag'] = train_data['store_and_fwd_flag'].apply(lambda x: flag_numeric(x))"
   ]
  },
  {
   "cell_type": "code",
   "execution_count": 112,
   "metadata": {
    "collapsed": true
   },
   "outputs": [],
   "source": [
    "test_data['store_and_fwd_flag'] = test_data['store_and_fwd_flag'].apply(lambda x: flag_numeric(x))"
   ]
  },
  {
   "cell_type": "code",
   "execution_count": 113,
   "metadata": {
    "collapsed": true
   },
   "outputs": [],
   "source": [
    "train_X = train_data.drop(['id', 'vendor_id', 'pickup_datetime', 'dropoff_datetime', 'trip_duration'], axis = 1)\n",
    "train_y = train_data['trip_duration']"
   ]
  },
  {
   "cell_type": "markdown",
   "metadata": {},
   "source": [
    "# Random Forest"
   ]
  },
  {
   "cell_type": "code",
   "execution_count": 118,
   "metadata": {},
   "outputs": [
    {
     "data": {
      "text/plain": [
       "RandomForestRegressor(bootstrap=True, criterion='mse', max_depth=None,\n",
       "           max_features='auto', max_leaf_nodes=None,\n",
       "           min_impurity_decrease=0.0, min_impurity_split=None,\n",
       "           min_samples_leaf=1, min_samples_split=2,\n",
       "           min_weight_fraction_leaf=0.0, n_estimators=10, n_jobs=1,\n",
       "           oob_score=False, random_state=101, verbose=0, warm_start=False)"
      ]
     },
     "execution_count": 118,
     "metadata": {},
     "output_type": "execute_result"
    }
   ],
   "source": [
    "kaggle_forest_reg_no_feat= RandomForestRegressor(random_state=101)\n",
    "kaggle_forest_reg_no_feat.fit(train_X, train_y)"
   ]
  },
  {
   "cell_type": "code",
   "execution_count": 119,
   "metadata": {
    "collapsed": true
   },
   "outputs": [],
   "source": [
    "y_pred = kaggle_forest_reg_no_feat.predict(test_X)"
   ]
  },
  {
   "cell_type": "code",
   "execution_count": 120,
   "metadata": {
    "collapsed": true
   },
   "outputs": [],
   "source": [
    "submission_csv = pd.DataFrame({'id': test_data['id'], 'trip_duration': y_pred})\n",
    "submission_csv.to_csv('nyc_random_forest_no_feature.csv')"
   ]
  },
  {
   "cell_type": "markdown",
   "metadata": {},
   "source": [
    "# XGBoost"
   ]
  },
  {
   "cell_type": "code",
   "execution_count": 123,
   "metadata": {},
   "outputs": [
    {
     "data": {
      "text/plain": [
       "XGBRegressor(base_score=0.5, booster='gbtree', colsample_bylevel=1,\n",
       "       colsample_bytree=1, gamma=0, learning_rate=0.1, max_delta_step=0,\n",
       "       max_depth=3, min_child_weight=1, missing=None, n_estimators=100,\n",
       "       n_jobs=1, nthread=None, objective='reg:linear', random_state=0,\n",
       "       reg_alpha=0, reg_lambda=1, scale_pos_weight=1, seed=None,\n",
       "       silent=True, subsample=1)"
      ]
     },
     "execution_count": 123,
     "metadata": {},
     "output_type": "execute_result"
    }
   ],
   "source": [
    "model = XGBRegressor()\n",
    "model.fit(train_X, train_y)"
   ]
  },
  {
   "cell_type": "code",
   "execution_count": 124,
   "metadata": {},
   "outputs": [],
   "source": [
    "y_pred = model.predict(test_X)"
   ]
  },
  {
   "cell_type": "code",
   "execution_count": 125,
   "metadata": {
    "collapsed": true
   },
   "outputs": [],
   "source": [
    "submission_xgboost_csv = pd.DataFrame({'id': test_data['id'], 'trip_duration': y_pred})\n",
    "submission_xgboost_csv.to_csv('nyc_kaggle_xgboost_no_feature.csv')"
   ]
  },
  {
   "cell_type": "markdown",
   "metadata": {},
   "source": [
    "# Linear Regression"
   ]
  },
  {
   "cell_type": "code",
   "execution_count": 127,
   "metadata": {
    "collapsed": true
   },
   "outputs": [],
   "source": [
    "lm.fit(train_X, train_y)\n",
    "y_pred = lm.predict(test_X)"
   ]
  },
  {
   "cell_type": "code",
   "execution_count": 128,
   "metadata": {
    "collapsed": true
   },
   "outputs": [],
   "source": [
    "submission_lm_csv = pd.DataFrame({'id': test_data['id'], 'trip_duration': y_pred})\n",
    "submission_lm_csv.to_csv('nyc_kaggle_linear_regression_no_feature.csv')"
   ]
  },
  {
   "cell_type": "markdown",
   "metadata": {},
   "source": [
    "# Just the 5 most import features"
   ]
  },
  {
   "cell_type": "code",
   "execution_count": 130,
   "metadata": {},
   "outputs": [],
   "source": [
    "train_impt_features = train[['car_distance', 'distance', 'pickup_hour', 'pickup_day', 'pickup_longitude']]"
   ]
  },
  {
   "cell_type": "code",
   "execution_count": 132,
   "metadata": {},
   "outputs": [],
   "source": [
    "train_y = train['trip_duration']"
   ]
  },
  {
   "cell_type": "code",
   "execution_count": 133,
   "metadata": {
    "collapsed": true
   },
   "outputs": [],
   "source": [
    "test_impt_features = test[['car_distance', 'distance', 'pickup_hour', 'pickup_day', 'pickup_longitude']]"
   ]
  },
  {
   "cell_type": "markdown",
   "metadata": {},
   "source": [
    "# XGBoost"
   ]
  },
  {
   "cell_type": "code",
   "execution_count": 135,
   "metadata": {},
   "outputs": [
    {
     "data": {
      "text/plain": [
       "XGBRegressor(base_score=0.5, booster='gbtree', colsample_bylevel=1,\n",
       "       colsample_bytree=1, gamma=0, learning_rate=0.1, max_delta_step=0,\n",
       "       max_depth=3, min_child_weight=1, missing=None, n_estimators=100,\n",
       "       n_jobs=1, nthread=None, objective='reg:linear', random_state=0,\n",
       "       reg_alpha=0, reg_lambda=1, scale_pos_weight=1, seed=None,\n",
       "       silent=True, subsample=1)"
      ]
     },
     "execution_count": 135,
     "metadata": {},
     "output_type": "execute_result"
    }
   ],
   "source": [
    "model = XGBRegressor()\n",
    "model.fit(train_impt_features, train_y)"
   ]
  },
  {
   "cell_type": "code",
   "execution_count": 136,
   "metadata": {
    "collapsed": true
   },
   "outputs": [],
   "source": [
    "y_pred = model.predict(test_impt_features)"
   ]
  },
  {
   "cell_type": "code",
   "execution_count": 137,
   "metadata": {
    "collapsed": true
   },
   "outputs": [],
   "source": [
    "submission_xgboost_5impt_csv = pd.DataFrame({'id': test['id'], 'trip_duration': y_pred})\n",
    "submission_xgboost_5impt_csv.to_csv('nyc_kaggle_xgboost_top5_feature.csv')"
   ]
  },
  {
   "cell_type": "markdown",
   "metadata": {},
   "source": [
    "# Random Forest"
   ]
  },
  {
   "cell_type": "code",
   "execution_count": 138,
   "metadata": {},
   "outputs": [
    {
     "data": {
      "text/plain": [
       "RandomForestRegressor(bootstrap=True, criterion='mse', max_depth=None,\n",
       "           max_features='auto', max_leaf_nodes=None,\n",
       "           min_impurity_decrease=0.0, min_impurity_split=None,\n",
       "           min_samples_leaf=1, min_samples_split=2,\n",
       "           min_weight_fraction_leaf=0.0, n_estimators=10, n_jobs=1,\n",
       "           oob_score=False, random_state=101, verbose=0, warm_start=False)"
      ]
     },
     "execution_count": 138,
     "metadata": {},
     "output_type": "execute_result"
    }
   ],
   "source": [
    "kaggle_forest_reg_5_feat= RandomForestRegressor(random_state=101)\n",
    "kaggle_forest_reg_5_feat.fit(train_impt_features, train_y)"
   ]
  },
  {
   "cell_type": "code",
   "execution_count": 139,
   "metadata": {
    "collapsed": true
   },
   "outputs": [],
   "source": [
    "y_pred = kaggle_forest_reg_5_feat.predict(test_impt_features)"
   ]
  },
  {
   "cell_type": "code",
   "execution_count": 140,
   "metadata": {
    "collapsed": true
   },
   "outputs": [],
   "source": [
    "submission_csv = pd.DataFrame({'id': test['id'], 'trip_duration': y_pred})\n",
    "submission_csv.to_csv('nyc_random_forest_top5_feature.csv')"
   ]
  },
  {
   "cell_type": "code",
   "execution_count": null,
   "metadata": {
    "collapsed": true
   },
   "outputs": [],
   "source": []
  }
 ],
 "metadata": {
  "kernelspec": {
   "display_name": "Python 3",
   "language": "python",
   "name": "python3"
  },
  "language_info": {
   "codemirror_mode": {
    "name": "ipython",
    "version": 3
   },
   "file_extension": ".py",
   "mimetype": "text/x-python",
   "name": "python",
   "nbconvert_exporter": "python",
   "pygments_lexer": "ipython3",
   "version": "3.6.1"
  }
 },
 "nbformat": 4,
 "nbformat_minor": 2
}
